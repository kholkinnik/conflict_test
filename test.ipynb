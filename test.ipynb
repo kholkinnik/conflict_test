{
 "cells": [
  {
   "cell_type": "code",
   "execution_count": 2,
   "id": "36418da3",
   "metadata": {},
   "outputs": [
    {
     "name": "stdout",
     "output_type": "stream",
     "text": [
      "hello world from usr1\n"
     ]
    }
   ],
   "source": [
    "print(\"hello world from usr1\")"
   ]
  },
  {
   "cell_type": "code",
   "execution_count": 1,
   "id": "f10ae3d9",
   "metadata": {},
   "outputs": [
    {
     "name": "stdout",
     "output_type": "stream",
     "text": [
      "hello world from usr1 2-nd time\n"
     ]
    }
   ],
   "source": [
    "#1.2\n",
    "print(\"hello world from usr1 2-nd time\")"
   ]
  }
 ],
 "metadata": {
  "kernelspec": {
   "display_name": "base",
   "language": "python",
   "name": "python3"
  },
  "language_info": {
   "codemirror_mode": {
    "name": "ipython",
    "version": 3
   },
   "file_extension": ".py",
   "mimetype": "text/x-python",
   "name": "python",
   "nbconvert_exporter": "python",
   "pygments_lexer": "ipython3",
   "version": "3.11.5"
  }
 },
 "nbformat": 4,
 "nbformat_minor": 5
}
