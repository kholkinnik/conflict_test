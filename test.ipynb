{
 "cells": [
  {
   "cell_type": "code",
   "execution_count": null,
   "id": "1fb12bb3",
   "metadata": {},
   "outputs": [],
   "source": [
    "print(\" usr 1 try 1\")"
   ]
  },
  {
   "cell_type": "code",
   "execution_count": null,
   "id": "c59da85a",
   "metadata": {},
   "outputs": [],
   "source": [
    "print( \" usr 1 try 2\")"
   ]
  }
 ],
 "metadata": {
  "kernelspec": {
   "display_name": "base",
   "language": "python",
   "name": "python3"
  },
  "language_info": {
   "codemirror_mode": {
    "name": "ipython",
    "version": 3
   },
   "file_extension": ".py",
   "mimetype": "text/x-python",
   "name": "python",
   "nbconvert_exporter": "python",
   "pygments_lexer": "ipython3",
   "version": "3.8.5"
  }
 },
 "nbformat": 4,
 "nbformat_minor": 5
}
